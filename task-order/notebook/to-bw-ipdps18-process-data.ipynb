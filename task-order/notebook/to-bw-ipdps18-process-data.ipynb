{
 "cells": [
  {
   "cell_type": "code",
   "execution_count": 1,
   "metadata": {},
   "outputs": [
    {
     "name": "stderr",
     "output_type": "stream",
     "text": [
      "/home/vivek/Research/repos/adap-bms-exps/ve-analytics/local/lib/python2.7/site-packages/pandas/_libs/__init__.py:4: RuntimeWarning: numpy.dtype size changed, may indicate binary incompatibility. Expected 96, got 88\n",
      "  from .tslib import iNaT, NaT, Timestamp, Timedelta, OutOfBoundsDatetime\n",
      "/home/vivek/Research/repos/adap-bms-exps/ve-analytics/local/lib/python2.7/site-packages/pandas/__init__.py:26: RuntimeWarning: numpy.dtype size changed, may indicate binary incompatibility. Expected 96, got 88\n",
      "  from pandas._libs import (hashtable as _hashtable,\n",
      "/home/vivek/Research/repos/adap-bms-exps/ve-analytics/local/lib/python2.7/site-packages/pandas/core/dtypes/common.py:6: RuntimeWarning: numpy.dtype size changed, may indicate binary incompatibility. Expected 96, got 88\n",
      "  from pandas._libs import algos, lib\n",
      "/home/vivek/Research/repos/adap-bms-exps/ve-analytics/local/lib/python2.7/site-packages/pandas/core/util/hashing.py:7: RuntimeWarning: numpy.dtype size changed, may indicate binary incompatibility. Expected 96, got 88\n",
      "  from pandas._libs import hashing, tslib\n",
      "/home/vivek/Research/repos/adap-bms-exps/ve-analytics/local/lib/python2.7/site-packages/pandas/core/indexes/base.py:7: RuntimeWarning: numpy.dtype size changed, may indicate binary incompatibility. Expected 96, got 88\n",
      "  from pandas._libs import (lib, index as libindex, tslib as libts,\n",
      "/home/vivek/Research/repos/adap-bms-exps/ve-analytics/local/lib/python2.7/site-packages/pandas/tseries/offsets.py:21: RuntimeWarning: numpy.dtype size changed, may indicate binary incompatibility. Expected 96, got 88\n",
      "  import pandas._libs.tslibs.offsets as liboffsets\n",
      "/home/vivek/Research/repos/adap-bms-exps/ve-analytics/local/lib/python2.7/site-packages/pandas/core/ops.py:16: RuntimeWarning: numpy.dtype size changed, may indicate binary incompatibility. Expected 96, got 88\n",
      "  from pandas._libs import algos as libalgos, ops as libops\n",
      "/home/vivek/Research/repos/adap-bms-exps/ve-analytics/local/lib/python2.7/site-packages/pandas/core/indexes/interval.py:32: RuntimeWarning: numpy.dtype size changed, may indicate binary incompatibility. Expected 96, got 88\n",
      "  from pandas._libs.interval import (\n",
      "/home/vivek/Research/repos/adap-bms-exps/ve-analytics/local/lib/python2.7/site-packages/pandas/core/internals.py:14: RuntimeWarning: numpy.dtype size changed, may indicate binary incompatibility. Expected 96, got 88\n",
      "  from pandas._libs import internals as libinternals\n",
      "/home/vivek/Research/repos/adap-bms-exps/ve-analytics/local/lib/python2.7/site-packages/pandas/core/sparse/array.py:33: RuntimeWarning: numpy.dtype size changed, may indicate binary incompatibility. Expected 96, got 88\n",
      "  import pandas._libs.sparse as splib\n",
      "/home/vivek/Research/repos/adap-bms-exps/ve-analytics/local/lib/python2.7/site-packages/pandas/core/window.py:36: RuntimeWarning: numpy.dtype size changed, may indicate binary incompatibility. Expected 96, got 88\n",
      "  import pandas._libs.window as _window\n",
      "/home/vivek/Research/repos/adap-bms-exps/ve-analytics/local/lib/python2.7/site-packages/pandas/core/groupby/groupby.py:68: RuntimeWarning: numpy.dtype size changed, may indicate binary incompatibility. Expected 96, got 88\n",
      "  from pandas._libs import (lib, reduction,\n",
      "/home/vivek/Research/repos/adap-bms-exps/ve-analytics/local/lib/python2.7/site-packages/pandas/core/reshape/reshape.py:30: RuntimeWarning: numpy.dtype size changed, may indicate binary incompatibility. Expected 96, got 88\n",
      "  from pandas._libs import algos as _algos, reshape as _reshape\n",
      "/home/vivek/Research/repos/adap-bms-exps/ve-analytics/local/lib/python2.7/site-packages/pandas/io/parsers.py:45: RuntimeWarning: numpy.dtype size changed, may indicate binary incompatibility. Expected 96, got 88\n",
      "  import pandas._libs.parsers as parsers\n",
      "/home/vivek/Research/repos/adap-bms-exps/ve-analytics/local/lib/python2.7/site-packages/pandas/io/pytables.py:50: RuntimeWarning: numpy.dtype size changed, may indicate binary incompatibility. Expected 96, got 88\n",
      "  from pandas._libs import algos, lib, writers as libwriters\n"
     ]
    }
   ],
   "source": [
    "import os\n",
    "import sys\n",
    "from glob import glob\n",
    "import numpy as np\n",
    "import pandas as pd\n",
    "import matplotlib.pyplot as plt\n",
    "from pprint import pprint\n",
    "import json\n",
    "\n",
    "import radical.utils     as ru\n",
    "import radical.pilot     as rp\n",
    "import radical.analytics as ra\n",
    "import radical.entk as re"
   ]
  },
  {
   "cell_type": "code",
   "execution_count": 13,
   "metadata": {},
   "outputs": [],
   "source": [
    "# Input constants\n",
    "trials = 1\n",
    "stages = [16, 64]\n",
    "resource = 'bw'\n",
    "src = '../raw-data/'\n",
    "proc = '../proc-data/'"
   ]
  },
  {
   "cell_type": "code",
   "execution_count": 3,
   "metadata": {},
   "outputs": [],
   "source": [
    "def get_adap_time(loc, sid):\n",
    "    \n",
    "    # Get adap time\n",
    "    duration = 0.0\n",
    "    sess = ra.Session(stype='radical.entk', src=loc, sid=sid)\n",
    "    stages = sorted(sess.filter(etype='stage', inplace=False).list('uid'))\n",
    "#     print stages\n",
    "    for stage in stages:\n",
    "        duration += sess.duration(event=[{ru.EVENT: 'executing post-exec for stage %s'%stage},\n",
    "                                         {ru.EVENT: 'post-exec executed for stage %s'%stage}])\n",
    "    return duration"
   ]
  },
  {
   "cell_type": "code",
   "execution_count": 4,
   "metadata": {},
   "outputs": [],
   "source": [
    "def get_entk_overheads(loc, sid):\n",
    "    \n",
    "    sess = ra.Session(stype='radical.entk', src=loc, sid=sid)\n",
    "    init_time = sess.duration(event=[{ru.EVENT: 'create amgr obj'},\n",
    "                                     {ru.EVENT: 'init rreq submission'}])\n",
    "    res_sub_time = sess.duration(event=[{ru.EVENT: 'creating rreq'},\n",
    "                                     {ru.EVENT: 'rreq submitted'}])\n",
    "    total_teardown_time = sess.duration(event=[{ru.EVENT: 'start termination'},\n",
    "                                               {ru.EVENT: 'termination done'}])\n",
    "    rts_teardown_time = sess.duration(event=[{ru.EVENT: 'canceling resource allocation'},\n",
    "                                             {ru.EVENT: 'resource allocation cancelled'}])\n",
    "    \n",
    "    return {'init_time': init_time,\n",
    "           'res_sub_time': res_sub_time,\n",
    "           'total_teardown_time': total_teardown_time,\n",
    "           'rts_teardown_time': rts_teardown_time}"
   ]
  },
  {
   "cell_type": "code",
   "execution_count": 5,
   "metadata": {},
   "outputs": [],
   "source": [
    "def get_entk_exec_time(loc, sid):\n",
    "    sess = ra.Session(stype='radical.entk', src=loc, sid=sid)\n",
    "    tasks = sess.filter(etype='task', inplace=False)\n",
    "    return tasks.duration(state=['SUBMITTED','EXECUTED'])"
   ]
  },
  {
   "cell_type": "code",
   "execution_count": 6,
   "metadata": {},
   "outputs": [],
   "source": [
    "def process_entk_profiles(src):\n",
    "    \n",
    "    sid = os.path.basename(src)\n",
    "    loc = os.path.dirname(src)\n",
    "    tag = '/'.join(loc.split('/')[2:])\n",
    "    proc_data = os.path.join(proc,tag) + '/entk_data.json'\n",
    "    data = {'adap_time': 0, 'overheads': 0, 'exec_time': 0}\n",
    "        \n",
    "    data['adap_time'] = get_adap_time(loc, sid)\n",
    "    data['overheads'] = get_entk_overheads(loc, sid)\n",
    "    data['exec_time'] = get_entk_exec_time(loc, sid)\n",
    "    \n",
    "    write_data(data, proc_data)\n",
    "    return proc_data"
   ]
  },
  {
   "cell_type": "code",
   "execution_count": 52,
   "metadata": {},
   "outputs": [],
   "source": [
    "def write_data(data, proc_path):\n",
    "\n",
    "    if 'rp.session' in proc_path:\n",
    "        proc_path = os.path.dirname(os.path.dirname(proc_path)) + '/' + os.path.basename(proc_path)\n",
    "    if not os.path.isdir(os.path.dirname(proc_path)):\n",
    "        os.makedirs(os.path.dirname(proc_path))\n",
    "    ru.write_json(data,proc_path)\n",
    "    \n",
    "    return proc_path"
   ]
  },
  {
   "cell_type": "code",
   "execution_count": 51,
   "metadata": {},
   "outputs": [
    {
     "name": "stdout",
     "output_type": "stream",
     "text": [
      "EnTK analysis\n",
      "Processing:  ../raw-data/bw/trial-1/stages-16/re.session.two.vivek.017759.0012\n",
      "Output written to  ../proc-data/bw/trial-1/stages-16/entk_data.json\n",
      "Processing:  ../raw-data/bw/trial-1/stages-64/re.session.two.vivek.017759.0018\n",
      "Output written to  ../proc-data/bw/trial-1/stages-64/entk_data.json\n"
     ]
    }
   ],
   "source": [
    "print 'EnTK analysis'\n",
    "for s in stages:\n",
    "    for t in range(1,trials+1):\n",
    "        path = os.path.join(src,resource,'trial-%s'%t,'stages-%s'%s)\n",
    "        for sess in glob(path + '/' + 're.session.*'):  \n",
    "            print 'Processing: ', sess\n",
    "            out_path = process_entk_profiles(sess)\n",
    "            print 'Output written to ', out_path"
   ]
  },
  {
   "cell_type": "code",
   "execution_count": 55,
   "metadata": {},
   "outputs": [],
   "source": [
    "def process_rp_profiles(src):\n",
    "    \n",
    "    sid = os.path.basename(src)\n",
    "    loc = os.path.dirname(src)\n",
    "    tag = '/'.join(loc.split('/')[2:])\n",
    "    proc_data = os.path.join(proc,tag) + '/rp_data.json'\n",
    "    data = {'task_mgmt': 0, 'exec_time': 0}\n",
    "    \n",
    "    sess = ra.Session(stype='radical.pilot', src=loc, sid=sid)\n",
    "    units = sess.filter(etype='unit', inplace=False)\n",
    "        \n",
    "    data['task_mgmt'] = units.duration(state=['NEW','DONE'])\n",
    "    data['exec_time'] = units.duration(event=[{ru.EVENT:'exec_start'},{ru.EVENT:'exec_stop'}])\n",
    "    \n",
    "    proc_path = write_data(data, proc_data)\n",
    "    return proc_path"
   ]
  },
  {
   "cell_type": "code",
   "execution_count": 56,
   "metadata": {},
   "outputs": [
    {
     "name": "stdout",
     "output_type": "stream",
     "text": [
      "RP analysis\n",
      "Processing:  ../raw-data/bw/trial-1/stages-16/rp.session.two.vivek.017759.0013/\n",
      "Output written to  ../proc-data/bw/trial-1/stages-16/rp_data.json\n",
      "Processing:  ../raw-data/bw/trial-1/stages-64/rp.session.two.vivek.017759.0019/\n",
      "WARNING: profile \"../raw-data/bw/trial-1/stages-64/rp.session.two.vivek.017759.0019/pmgr.0000.launching.0.child.prof\" not correctly closed.\n",
      "WARNING: profile \"../raw-data/bw/trial-1/stages-64/rp.session.two.vivek.017759.0019/pmgr.0000.launching.0.child.prof\" not correctly closed.\n",
      "Output written to  ../proc-data/bw/trial-1/stages-64/rp_data.json\n"
     ]
    }
   ],
   "source": [
    "print 'RP analysis'\n",
    "for s in stages:\n",
    "    for t in range(1,trials+1):\n",
    "        path = os.path.join(src,resource,'trial-%s'%t,'stages-%s'%s)\n",
    "        for sess in glob(path + '/' + 'rp.session.*/'):  \n",
    "            print 'Processing: ', sess\n",
    "            out_path = process_rp_profiles(sess)\n",
    "            print 'Output written to ', out_path"
   ]
  },
  {
   "cell_type": "code",
   "execution_count": null,
   "metadata": {},
   "outputs": [],
   "source": []
  }
 ],
 "metadata": {
  "kernelspec": {
   "display_name": "Python 2",
   "language": "python",
   "name": "python2"
  },
  "language_info": {
   "codemirror_mode": {
    "name": "ipython",
    "version": 2
   },
   "file_extension": ".py",
   "mimetype": "text/x-python",
   "name": "python",
   "nbconvert_exporter": "python",
   "pygments_lexer": "ipython2",
   "version": "2.7.12"
  }
 },
 "nbformat": 4,
 "nbformat_minor": 2
}
